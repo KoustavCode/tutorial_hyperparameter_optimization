{
 "cells": [
  {
   "cell_type": "code",
   "execution_count": 2,
   "metadata": {},
   "outputs": [],
   "source": [
    "#Tuning Hyperparameters - A Naive Pythonic Approach "
   ]
  },
  {
   "cell_type": "code",
   "execution_count": 3,
   "metadata": {},
   "outputs": [],
   "source": [
    "from sklearn.ensemble import RandomForestClassifier\n",
    "# from sklearn.metrics import accuracy_score\n",
    "from sklearn.metrics import r2_score\n",
    "from sklearn.linear_model import Ridge \n",
    "from sklearn.datasets import load_boston"
   ]
  },
  {
   "cell_type": "code",
   "execution_count": 4,
   "metadata": {},
   "outputs": [
    {
     "name": "stdout",
     "output_type": "stream",
     "text": [
      "(506, 13)\n",
      "(506,)\n"
     ]
    }
   ],
   "source": [
    "X,y = load_boston(return_X_y=True)\n",
    "print(X.shape)\n",
    "print(y.shape)"
   ]
  },
  {
   "cell_type": "code",
   "execution_count": 5,
   "metadata": {},
   "outputs": [],
   "source": [
    "def custom_hyperparameter_tuner( hyperparams_dict , algorithm = \"Ridge\", metric_score=\"accuracy\" ):\n",
    "    if metric_score==\"accuracy\":\n",
    "        best_hyperparams=None\n",
    "        best_accuracy=-999\n",
    "        if algorithm==\"Ridge\":\n",
    "            for i in hyperparams_dict:\n",
    "                ridge = Ridge(alpha = i['alpha'])\n",
    "                ridge.fit(X,y)\n",
    "                y_pred = ridge.predict(X)\n",
    "                score = r2_score(y , y_pred)\n",
    "                print(score)\n",
    "                if score > best_accuracy:\n",
    "                    best_accuracy=score\n",
    "                    best_hyperparams=i\n",
    "    \n",
    "    return best_hyperparams"
   ]
  },
  {
   "cell_type": "code",
   "execution_count": 6,
   "metadata": {},
   "outputs": [],
   "source": [
    "def create_hyperparameter_dict( algorithm=\"Ridge\" ):\n",
    "    hyperparams_dict=[]\n",
    "    if algorithm==\"Ridge\":\n",
    "        for i in range(1,100):\n",
    "            hyperparams_dict.append({\"alpha\":i*0.01})\n",
    "            i+=1\n",
    "            \n",
    "    return hyperparams_dict"
   ]
  },
  {
   "cell_type": "code",
   "execution_count": 7,
   "metadata": {},
   "outputs": [
    {
     "name": "stdout",
     "output_type": "stream",
     "text": [
      "0.7406072669874482\n",
      "0.7406058636127386\n",
      "0.7406035680892646\n",
      "0.7406004144277141\n",
      "0.7405964353568849\n",
      "0.7405916623769503\n",
      "0.7405861258102504\n",
      "0.7405798548497389\n",
      "0.7405728776052055\n",
      "0.7405652211473865\n",
      "0.7405569115500725\n",
      "0.7405479739303122\n",
      "0.7405384324868116\n",
      "0.7405283105366129\n",
      "0.7405176305501455\n",
      "0.740506414184724\n",
      "0.7404946823165721\n",
      "0.7404824550714444\n",
      "0.740469751853913\n",
      "0.7404565913753857\n",
      "0.7404429916809141\n",
      "0.7404289701748514\n",
      "0.7404145436454154\n",
      "0.7403997282882048\n",
      "0.7403845397287234\n",
      "0.7403689930439543\n",
      "0.7403531027830308\n",
      "0.7403368829870458\n",
      "0.7403203472080376\n",
      "0.740303508527193\n",
      "0.7402863795723007\n",
      "0.7402689725344913\n",
      "0.740251299184294\n",
      "0.7402333708870434\n",
      "0.7402151986176634\n",
      "0.7401967929748569\n",
      "0.7401781641947276\n",
      "0.7401593221638598\n",
      "0.7401402764318783\n",
      "0.7401210362235129\n",
      "0.740101610450188\n",
      "0.7400820077211585\n",
      "0.740062236354212\n",
      "0.7400423043859549\n",
      "0.7400222195817001\n",
      "0.7400019894449759\n",
      "0.7399816212266681\n",
      "0.7399611219338147\n",
      "0.7399404983380646\n",
      "0.739919756983817\n",
      "0.7398989041960533\n",
      "0.7398779460878742\n",
      "0.7398568885677557\n",
      "0.7398357373465334\n",
      "0.7398144979441279\n",
      "0.7397931756960221\n",
      "0.7397717757594982\n",
      "0.7397503031196464\n",
      "0.7397287625951549\n",
      "0.7397071588438873\n",
      "0.739685496368258\n",
      "0.7396637795204133\n",
      "0.7396420125072263\n",
      "0.7396201993951108\n",
      "0.7395983441146654\n",
      "0.739576450465149\n",
      "0.7395545221188002\n",
      "0.739532562625002\n",
      "0.7395105754143003\n",
      "0.7394885638022806\n",
      "0.7394665309933088\n",
      "0.7394444800841431\n",
      "0.7394224140674177\n",
      "0.739400335835007\n",
      "0.7393782481812734\n",
      "0.7393561538062038\n",
      "0.739334055318437\n",
      "0.7393119552381884\n",
      "0.7392898560000751\n",
      "0.7392677599558439\n",
      "0.7392456693770085\n",
      "0.7392235864573959\n",
      "0.7392015133156074\n",
      "0.739179451997398\n",
      "0.7391574044779753\n",
      "0.739135372664221\n",
      "0.7391133583968403\n",
      "0.7390913634524379\n",
      "0.7390693895455269\n",
      "0.7390474383304708\n",
      "0.7390255114033619\n",
      "0.7390036103038372\n",
      "0.7389817365168364\n",
      "0.7389598914743015\n",
      "0.7389380765568215\n",
      "0.7389162930952237\n",
      "0.7388945423721134\n",
      "0.7388728256233644\n",
      "0.7388511440395613\n",
      "{'alpha': 0.01}\n"
     ]
    }
   ],
   "source": [
    "hyperparams_dict=create_hyperparameter_dict(\"Ridge\")\n",
    "# print(hyperparams_dict)\n",
    "best_hyperparams=custom_hyperparameter_tuner(hyperparams_dict,\"Ridge\",\"accuracy\")\n",
    "print(best_hyperparams)"
   ]
  },
  {
   "cell_type": "code",
   "execution_count": null,
   "metadata": {},
   "outputs": [],
   "source": []
  }
 ],
 "metadata": {
  "kernelspec": {
   "display_name": "Python 2",
   "language": "python",
   "name": "python2"
  },
  "language_info": {
   "codemirror_mode": {
    "name": "ipython",
    "version": 2
   },
   "file_extension": ".py",
   "mimetype": "text/x-python",
   "name": "python",
   "nbconvert_exporter": "python",
   "pygments_lexer": "ipython2",
   "version": "2.7.15"
  }
 },
 "nbformat": 4,
 "nbformat_minor": 2
}
