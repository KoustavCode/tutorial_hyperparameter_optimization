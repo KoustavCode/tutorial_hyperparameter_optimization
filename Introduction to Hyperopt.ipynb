{
 "cells": [
  {
   "cell_type": "markdown",
   "metadata": {},
   "source": [
    "## Hyperopt is a Hyperparamter Optimization Library\n",
    "\n",
    "It Minimizes a function f(x1,x2....,xn) when (x1,x2....,xn) belong to some Range"
   ]
  },
  {
   "cell_type": "code",
   "execution_count": 1,
   "metadata": {
    "collapsed": true
   },
   "outputs": [],
   "source": [
    "from hyperopt import hp, tpe, fmin\n",
    "# hp is the function which will create a range for the function parameters\n",
    "# tpe is the Tree-structured Parzen Estimator Algorithm, which we use instead of Grid/Random search as dicussed\n",
    "# fmin is the function that will take in the function that is to be optimized, the range of parameters"
   ]
  },
  {
   "cell_type": "code",
   "execution_count": 2,
   "metadata": {
    "collapsed": true
   },
   "outputs": [],
   "source": [
    "def objective_function(args):  # define the function which will take the argument \n",
    "                               # and return the equation that is to be minimized.\n",
    "    x,y = args['x'],args['y']  # taking the arguments\n",
    "    return x**2 - y**2         # returning the equation"
   ]
  },
  {
   "cell_type": "code",
   "execution_count": 3,
   "metadata": {
    "collapsed": false
   },
   "outputs": [],
   "source": [
    "space = {'x':hp.uniform('x',-2,2),      #defining the range for x\n",
    "         'y':hp.uniform('y',-3,1)}      #defining the range for y"
   ]
  },
  {
   "cell_type": "code",
   "execution_count": 13,
   "metadata": {
    "collapsed": false
   },
   "outputs": [],
   "source": [
    "best_param_20eval = fmin(objective_function ,space ,algo=tpe.suggest ,max_evals=60)\n",
    "# using tpe to get the minimum value of f(x,y) when x <- (-2,2)\n",
    "#                                               and y <- (-3,1) "
   ]
  },
  {
   "cell_type": "code",
   "execution_count": 14,
   "metadata": {
    "collapsed": false
   },
   "outputs": [
    {
     "name": "stdout",
     "output_type": "stream",
     "text": [
      "{'y': -2.9970869796100037, 'x': 0.5489189881566032}\n"
     ]
    }
   ],
   "source": [
    "print(best_param_20eval)"
   ]
  },
  {
   "cell_type": "code",
   "execution_count": 16,
   "metadata": {
    "collapsed": false
   },
   "outputs": [
    {
     "name": "stdout",
     "output_type": "stream",
     "text": [
      "{'y': -2.998779147754817, 'x': 0.0073462322186383655}\n"
     ]
    }
   ],
   "source": [
    "#almost similar result for 100 evals\n",
    "best_param_100eval = fmin(objective_function ,space ,algo=tpe.suggest ,max_evals=500)\n",
    "print(best_param_100eval)"
   ]
  },
  {
   "cell_type": "markdown",
   "metadata": {},
   "source": [
    "## Understanding and Creating Search Space for hyperopt\n",
    "Unlike sklearn's grid search hyperopt.fmin's search space must be an hp object. We'll look at some important range functions and how to use them"
   ]
  },
  {
   "cell_type": "markdown",
   "metadata": {},
   "source": [
    "Fmin function allow us to pass only one argument to objective function as can be seen in above example, the we are supposed to extract the parameters from the argument.\n",
    "\n",
    "we can use the above code like this as well:\n",
    "\n",
    "```\n",
    "def objective_function(args):\n",
    "    x,y = args[0],args[1]  \n",
    "    return x**2 - y**2\n",
    "    \n",
    "space = [hp.uniform('x',-2,2),hp.uniform('y',-3,1)]\n",
    "#or\n",
    "space = ([hp.uniform('x',-2,2),hp.uniform('y',-3,1)])\n",
    "\n",
    "```\n",
    "\n",
    "### Lets look at some hyperopt space functions on the official wiki page here:\n",
    "https://github.com/hyperopt/hyperopt/wiki/FMin#21-parameter-expressions"
   ]
  },
  {
   "cell_type": "markdown",
   "metadata": {},
   "source": [
    "## We'll now use some complex spaces in the following sklearn examples and Compare Grid Search and tpe for optimization of "
   ]
  },
  {
   "cell_type": "code",
   "execution_count": 25,
   "metadata": {
    "collapsed": false
   },
   "outputs": [],
   "source": [
    "from sklearn.neighbors import KNeighborsClassifier\n",
    "from sklearn.preprocessing import LabelEncoder\n",
    "from sklearn.model_selection import train_test_split\n",
    "from sklearn.metrics import mean_squared_error\n",
    "import pandas as pd\n",
    "\n",
    "df = pd.read_csv('iris.csv')"
   ]
  },
  {
   "cell_type": "code",
   "execution_count": 26,
   "metadata": {
    "collapsed": false
   },
   "outputs": [
    {
     "data": {
      "text/html": [
       "<div>\n",
       "<style scoped>\n",
       "    .dataframe tbody tr th:only-of-type {\n",
       "        vertical-align: middle;\n",
       "    }\n",
       "\n",
       "    .dataframe tbody tr th {\n",
       "        vertical-align: top;\n",
       "    }\n",
       "\n",
       "    .dataframe thead th {\n",
       "        text-align: right;\n",
       "    }\n",
       "</style>\n",
       "<table border=\"1\" class=\"dataframe\">\n",
       "  <thead>\n",
       "    <tr style=\"text-align: right;\">\n",
       "      <th></th>\n",
       "      <th>sepal length</th>\n",
       "      <th>sepal width</th>\n",
       "      <th>petal length</th>\n",
       "      <th>petal width</th>\n",
       "      <th>species</th>\n",
       "    </tr>\n",
       "  </thead>\n",
       "  <tbody>\n",
       "    <tr>\n",
       "      <th>0</th>\n",
       "      <td>5.1</td>\n",
       "      <td>3.5</td>\n",
       "      <td>1.4</td>\n",
       "      <td>0.2</td>\n",
       "      <td>Iris-setosa</td>\n",
       "    </tr>\n",
       "    <tr>\n",
       "      <th>1</th>\n",
       "      <td>4.9</td>\n",
       "      <td>3.0</td>\n",
       "      <td>1.4</td>\n",
       "      <td>0.2</td>\n",
       "      <td>Iris-setosa</td>\n",
       "    </tr>\n",
       "    <tr>\n",
       "      <th>2</th>\n",
       "      <td>4.7</td>\n",
       "      <td>3.2</td>\n",
       "      <td>1.3</td>\n",
       "      <td>0.2</td>\n",
       "      <td>Iris-setosa</td>\n",
       "    </tr>\n",
       "    <tr>\n",
       "      <th>3</th>\n",
       "      <td>4.6</td>\n",
       "      <td>3.1</td>\n",
       "      <td>1.5</td>\n",
       "      <td>0.2</td>\n",
       "      <td>Iris-setosa</td>\n",
       "    </tr>\n",
       "    <tr>\n",
       "      <th>4</th>\n",
       "      <td>5.0</td>\n",
       "      <td>3.6</td>\n",
       "      <td>1.4</td>\n",
       "      <td>0.2</td>\n",
       "      <td>Iris-setosa</td>\n",
       "    </tr>\n",
       "  </tbody>\n",
       "</table>\n",
       "</div>"
      ],
      "text/plain": [
       "   sepal length  sepal width  petal length  petal width      species\n",
       "0           5.1          3.5           1.4          0.2  Iris-setosa\n",
       "1           4.9          3.0           1.4          0.2  Iris-setosa\n",
       "2           4.7          3.2           1.3          0.2  Iris-setosa\n",
       "3           4.6          3.1           1.5          0.2  Iris-setosa\n",
       "4           5.0          3.6           1.4          0.2  Iris-setosa"
      ]
     },
     "execution_count": 26,
     "metadata": {},
     "output_type": "execute_result"
    }
   ],
   "source": [
    "df.head()  #our data"
   ]
  },
  {
   "cell_type": "code",
   "execution_count": 27,
   "metadata": {
    "collapsed": true
   },
   "outputs": [],
   "source": [
    "l = LabelEncoder()\n",
    "df['species'] = l.fit_transform(df['species'])\n",
    "\n",
    "x = df.drop('species',axis=1)\n",
    "y = df['species']\n",
    "\n",
    "x_train,x_test,y_train,y_test = train_test_split(x,y,test_size=0.2,random_state=0)"
   ]
  },
  {
   "cell_type": "markdown",
   "metadata": {},
   "source": [
    "### Using Grid Search"
   ]
  },
  {
   "cell_type": "code",
   "execution_count": null,
   "metadata": {
    "collapsed": true
   },
   "outputs": [],
   "source": []
  },
  {
   "cell_type": "code",
   "execution_count": null,
   "metadata": {
    "collapsed": true
   },
   "outputs": [],
   "source": []
  },
  {
   "cell_type": "code",
   "execution_count": 28,
   "metadata": {
    "collapsed": true
   },
   "outputs": [],
   "source": [
    "space = {'n_neighbors':hp.choice('n_neighbors',range(3,11)),\n",
    "        'algorithm':hp.choice('algorithm',['ball_tree','kd_tree']),\n",
    "        'leaf_size':hp.choice('leaf_size',range(1,50)),\n",
    "        'metric':hp.choice('metric',[\"euclidean\",\"manhattan\",\"chebyshev\",\"minkowski\",\"wminkowski\",\"seuclidean\",\"mahalanobis\"]),\n",
    "        }\n",
    "\n",
    "# so we have a lots of possiblities for KNearestClassifier to look for the best set of HyperParameter\n",
    "\n",
    "def find_hp_knn(args):\n",
    "    n_neighbors = args['n_neighbors']\n",
    "    algorithm = args['algorithm']\n",
    "    leaf_size = args['leaf_size']\n",
    "    metric = args['metric']\n",
    "    \n",
    "    model = KNeighborsClassifier(n_neighbors=n_neighbors,algorithm=algorithm,leaf_size=leaf_size,metric=metric)\n",
    "    \n",
    "    model.fit(x_train,y_train)\n",
    "    \n",
    "    y_pred_train = model.predict(x_train)\n",
    "    \n",
    "    loss = mean_squared_error(y_train,y_pred_train)\n",
    "    \n",
    "    \n",
    "    \n",
    "    "
   ]
  },
  {
   "cell_type": "code",
   "execution_count": null,
   "metadata": {
    "collapsed": true
   },
   "outputs": [],
   "source": []
  }
 ],
 "metadata": {
  "anaconda-cloud": {},
  "kernelspec": {
   "display_name": "Python [conda root]",
   "language": "python",
   "name": "conda-root-py"
  },
  "language_info": {
   "codemirror_mode": {
    "name": "ipython",
    "version": 2
   },
   "file_extension": ".py",
   "mimetype": "text/x-python",
   "name": "python",
   "nbconvert_exporter": "python",
   "pygments_lexer": "ipython2",
   "version": "2.7.12"
  }
 },
 "nbformat": 4,
 "nbformat_minor": 1
}
