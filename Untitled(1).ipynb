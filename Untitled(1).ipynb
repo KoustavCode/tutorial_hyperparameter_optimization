{
 "cells": [
  {
   "cell_type": "markdown",
   "metadata": {},
   "source": [
    "# Tuning The Hyperparameters  - Using A Naive Pythonic Approach"
   ]
  },
  {
   "cell_type": "markdown",
   "metadata": {},
   "source": [
    "We will be using the boston dataset for the examples and the exercises. "
   ]
  },
  {
   "cell_type": "code",
   "execution_count": 65,
   "metadata": {},
   "outputs": [],
   "source": [
    "from sklearn.model_selection import train_test_split\n",
    "from sklearn.metrics import r2_score\n",
    "from sklearn.linear_model import Ridge \n",
    "from sklearn.datasets import load_boston\n",
    "from sklearn.neighbors import KNeighborsRegressor"
   ]
  },
  {
   "cell_type": "markdown",
   "metadata": {},
   "source": [
    "We'll be using a train-test split of 80:20 for training and validation of the algorithm"
   ]
  },
  {
   "cell_type": "code",
   "execution_count": 66,
   "metadata": {},
   "outputs": [],
   "source": [
    "X,y = load_boston(return_X_y=True)\n",
    "x_train,x_test,y_train,y_test = train_test_split(X,y,test_size=0.2,random_state=0)"
   ]
  },
  {
   "cell_type": "markdown",
   "metadata": {},
   "source": [
    "# Lets have our own Simple Hyperparameter Tuner !!"
   ]
  },
  {
   "cell_type": "code",
   "execution_count": 71,
   "metadata": {},
   "outputs": [],
   "source": [
    "def custom_hyperparameter_tuner( hyperparams_dict , algorithm , metric_score=\"r2_score\" ):\n",
    "    \n",
    "    \"\"\"\n",
    "    Implementation of a Simple Loop Based \n",
    "    Hyperparameter Tuning based on the metric score, , \n",
    "    hyperparameter combinations and algorithms provided as arguments\n",
    "    \"\"\"\n",
    "    \n",
    "    if metric_score==\"r2_score\":\n",
    "        \n",
    "        \"\"\"\n",
    "        Based on the r2_score , it selects out the best hyperparameter out of all the hyperparameters \n",
    "        \"\"\"\n",
    "        \n",
    "        best_hyperparams=None\n",
    "        best_accuracy=-99999\n",
    "        \n",
    "        if algorithm==\"Ridge\":\n",
    "            for i in hyperparams_dict:\n",
    "                ridge = Ridge(alpha = i['alpha'])\n",
    "                ridge.fit(x_train,y_train)\n",
    "                y_pred = ridge.predict(x_test)\n",
    "                score = r2_score(y_test , y_pred)\n",
    "                #print(score)\n",
    "                if score > best_accuracy:\n",
    "                    best_accuracy=score\n",
    "                    best_hyperparams=i\n",
    "                    \n",
    "        \n",
    "        if algorithm==\"KNearest\":\n",
    "            for i in hyperparams_dict:\n",
    "                knearest=KNeighborsRegressor(n_neighbors=i['n_neighbors'],weights=i['weights'])\n",
    "                knearest.fit(x_train,y_train)\n",
    "                y_pred = knearest.predict(x_test)\n",
    "                score = r2_score(y_test , y_pred)\n",
    "                #print(score)\n",
    "                if score > best_accuracy:\n",
    "                    best_accuracy=score\n",
    "                    best_hyperparams=i\n",
    "            \n",
    "            \n",
    "#         if algorithm==\"SVM Regressor\":\n",
    "#         \"\"\"\n",
    "#             1. Create a SVM Regressor for each of the choice sets in the hyperparams_dict\n",
    "#             2. Fit it on X_train and predict on X_test \n",
    "#             3. Calculate r2_score and find the best hyperparams\n",
    "#         \"\"\"\n",
    "        \n",
    "    return best_hyperparams"
   ]
  },
  {
   "cell_type": "markdown",
   "metadata": {},
   "source": [
    "Create the Hyperparameter Combinations by using loops"
   ]
  },
  {
   "cell_type": "code",
   "execution_count": 68,
   "metadata": {},
   "outputs": [],
   "source": [
    "def create_hyperparameter_dict( algorithm ):\n",
    "    hyperparams_dict=[]\n",
    "    if algorithm==\"Ridge\":\n",
    "        \"\"\"\n",
    "        For Ridge , We have taken only one hyperparameter(alpha)'s hyperparameters .\n",
    "        alpha: can be any value b/w 0 and 1\n",
    "        \"\"\"\n",
    "        for i in range(1,100):\n",
    "            hyperparams_dict.append({\"alpha\":i*0.01})\n",
    "            i+=1\n",
    "    \n",
    "    if algorithm==\"KNearest\":\n",
    "        \"\"\"\n",
    "        For KNearest Regressor , We have taken n_neighbors and weights as the hyperparameters\n",
    "        n_neighbors: can have any integral value b/w 1 to no_of_samples\n",
    "        weights: can be any one out of {\"uniform\",\"distance\"}\n",
    "        \"\"\"\n",
    "        weights=[\"uniform\",\"distance\"]\n",
    "        for i in range(1,x_train.shape[0],5):\n",
    "            for j in range(0,2,1):\n",
    "                hyperparams_dict.append({\"n_neighbors\":i,\"weights\":weights[j]})\n",
    "\n",
    "\n",
    "#     if algorithm==\"SVMRegressor\":\n",
    "#         \"\"\"\n",
    "#         For SVM Regressor , take kernel , C(penality parameter) , max_iter  as the hyperparameters\n",
    "#         kernel: can be any one out of {\"linear\",\"poly\",\"rbf\",\"sigmoid\"}\n",
    "#         C: can be any value b/w 0 and 1 \n",
    "#         max_iter: can be b/w (1,100)\n",
    "#         \"\"\"\n",
    "            \n",
    "    \n",
    "    return hyperparams_dict"
   ]
  },
  {
   "cell_type": "markdown",
   "metadata": {},
   "source": [
    "\n",
    "# We have our Hyperparameter Tuner !! Lets Test it "
   ]
  },
  {
   "cell_type": "code",
   "execution_count": 69,
   "metadata": {},
   "outputs": [
    {
     "name": "stdout",
     "output_type": "stream",
     "text": [
      "Best Hyperparameters for KNearest: {'weights': 'distance', 'n_neighbors': 6}\n",
      "Best Hyperparameters for Ridge Regression: {'alpha': 0.01}\n"
     ]
    }
   ],
   "source": [
    "hyperparams_dict=create_hyperparameter_dict(\"KNearest\")\n",
    "hyperparams_dict2=create_hyperparameter_dict(\"Ridge\")\n",
    "# print(hyperparams_dict)\n",
    "best_hyperparams=custom_hyperparameter_tuner(hyperparams_dict,\"KNearest\",\"r2_score\")\n",
    "best_hyperparams2=custom_hyperparameter_tuner(hyperparams_dict2,\"Ridge\",\"r2_score\")\n",
    "# print(best_score)\n",
    "print(\"Best Hyperparameters for KNearest: \" +str(best_hyperparams))\n",
    "print(\"Best Hyperparameters for Ridge Regression: \"+str(best_hyperparams2))"
   ]
  },
  {
   "cell_type": "markdown",
   "metadata": {},
   "source": [
    "# Now Test your own Hyperparameter Tuner for the algorithm you've created"
   ]
  },
  {
   "cell_type": "code",
   "execution_count": null,
   "metadata": {},
   "outputs": [],
   "source": []
  }
 ],
 "metadata": {
  "kernelspec": {
   "display_name": "Python 3",
   "language": "python",
   "name": "python3"
  },
  "language_info": {
   "codemirror_mode": {
    "name": "ipython",
    "version": 3
   },
   "file_extension": ".py",
   "mimetype": "text/x-python",
   "name": "python",
   "nbconvert_exporter": "python",
   "pygments_lexer": "ipython3",
   "version": "3.5.2"
  }
 },
 "nbformat": 4,
 "nbformat_minor": 2
}
